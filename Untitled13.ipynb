{
  "nbformat": 4,
  "nbformat_minor": 0,
  "metadata": {
    "colab": {
      "private_outputs": true,
      "provenance": []
    },
    "kernelspec": {
      "name": "python3",
      "display_name": "Python 3"
    },
    "language_info": {
      "name": "python"
    }
  },
  "cells": [
    {
      "cell_type": "code",
      "execution_count": null,
      "metadata": {
        "id": "gpiM-pmFo6ZQ"
      },
      "outputs": [],
      "source": [
        "import numpy as np\n",
        "import pandas as pd\n",
        "from sklearn.model_selection import train_test_split\n",
        "from sklearn.tree import DecisionTreeClassifier\n",
        "from sklearn.preprocessing import StandardScaler"
      ]
    },
    {
      "cell_type": "code",
      "source": [
        "df = pd.read_csv('/content/Crop_recommendation.csv')"
      ],
      "metadata": {
        "id": "nidv_Xc2pcq0"
      },
      "execution_count": null,
      "outputs": []
    },
    {
      "cell_type": "code",
      "source": [
        "df"
      ],
      "metadata": {
        "id": "xq_aPjmSp8yo"
      },
      "execution_count": null,
      "outputs": []
    },
    {
      "cell_type": "code",
      "source": [
        "null = df.isnull().sum()"
      ],
      "metadata": {
        "id": "-acMGc9Qp98w"
      },
      "execution_count": null,
      "outputs": []
    },
    {
      "cell_type": "code",
      "source": [
        "print(null)"
      ],
      "metadata": {
        "id": "24j1g1r9qChq"
      },
      "execution_count": null,
      "outputs": []
    },
    {
      "cell_type": "code",
      "source": [
        "duplicate = df.duplicated().sum()"
      ],
      "metadata": {
        "id": "dgjQABirqETl"
      },
      "execution_count": null,
      "outputs": []
    },
    {
      "cell_type": "code",
      "source": [
        "print(duplicate)"
      ],
      "metadata": {
        "id": "koL9K9uPqHJA"
      },
      "execution_count": null,
      "outputs": []
    },
    {
      "cell_type": "code",
      "source": [
        "X = df.drop('label', axis=1)\n",
        "y = df['label']\n",
        "X_train, X_temp, y_train, y_temp = train_test_split(X, y, test_size=0.4, random_state=42)\n",
        "X_val, X_test, y_val, y_test = train_test_split(X_temp, y_temp, test_size=0.5, random_state=42)\n",
        "scaler = StandardScaler()\n",
        "X_train = scaler.fit_transform(X_train)\n",
        "X_val = scaler.transform(X_val)\n",
        "X_test = scaler.transform(X_test)\n",
        "print(\"Shape of X_train:\", X_train.shape)\n",
        "print(\"Shape of X_val:\", X_val.shape)\n",
        "print(\"Shape of X_test:\", X_test.shape)\n",
        "print(\"Shape of y_train:\", y_train.shape)\n",
        "print(\"Shape of y_val:\", y_val.shape)\n",
        "print(\"Shape of y_test:\", y_test.shape)"
      ],
      "metadata": {
        "id": "hvQGBcz_uvjO"
      },
      "execution_count": null,
      "outputs": []
    },
    {
      "cell_type": "code",
      "source": [
        "from sklearn.tree import DecisionTreeClassifier\n",
        "from sklearn.metrics import accuracy_score\n",
        "\n",
        "model = DecisionTreeClassifier(random_state=42)\n",
        "model.fit(X_train, y_train)\n",
        "\n",
        "y_pred = model.predict(X_test)\n",
        "accuracy = accuracy_score(y_test, y_pred)\n",
        "print(f\"Accuracy: {accuracy:.4f}\")"
      ],
      "metadata": {
        "id": "mo57RSPnuORb"
      },
      "execution_count": null,
      "outputs": []
    },
    {
      "cell_type": "code",
      "source": [
        "def predict_crop(N, P, K, temperature, humidity, ph, rainfall):\n",
        "    input_data = [[N, P, K, temperature, humidity, ph, rainfall]]\n",
        "    input_data_scaled = scaler.transform(input_data)\n",
        "    prediction = model.predict(input_data_scaled)\n",
        "    return prediction[0]\n",
        "\n",
        "N = float(input(\"Enter nitrogen content: \"))\n",
        "P = float(input(\"Enter phosphorus content: \"))\n",
        "K = float(input(\"Enter potassium content: \"))\n",
        "temperature = float(input(\"Enter temperature: \"))\n",
        "humidity = float(input(\"Enter humidity: \"))\n",
        "ph = float(input(\"Enter ph: \"))\n",
        "rainfall = float(input(\"Enter rainfall: \"))\n",
        "\n",
        "predicted_crop = predict_crop(N, P, K, temperature, humidity, ph, rainfall)\n",
        "print(f\"The predicted crop is: {predicted_crop}\")"
      ],
      "metadata": {
        "id": "inbH2IAkuxd9"
      },
      "execution_count": null,
      "outputs": []
    },
    {
      "cell_type": "code",
      "source": [
        "from flask import Flask, request, jsonify\n",
        "import pandas as pd\n",
        "import joblib\n",
        "from sklearn.linear_model import LogisticRegression\n",
        "from sklearn.model_selection import train_test_split\n",
        "\n",
        "app = Flask(__name__)\n",
        "df = pd.read_csv(\"/content/Crop_recommendation.csv\")\n",
        "X = df[['N', 'P', 'K', 'temperature', 'humidity', 'ph', 'rainfall']]\n",
        "y = df['label']\n",
        "model = LogisticRegression(max_iter=1000)\n",
        "X_train, X_test, y_train, y_test = train_test_split(X, y, test_size=0.2, random_state=42)\n",
        "model.fit(X_train, y_train)\n",
        "joblib.dump(model, \"crop_model.pkl\")\n",
        "\n",
        "@app.route('/predict', methods=['POST'])\n",
        "def predict():\n",
        "    try:\n",
        "        data = request.json\n",
        "        N = data[\"N\"]\n",
        "        P = data[\"P\"]\n",
        "        K = data[\"K\"]\n",
        "        temperature = data[\"temperature\"]\n",
        "        humidity = data[\"humidity\"]\n",
        "        ph = data[\"ph\"]\n",
        "        rainfall = data[\"rainfall\"]\n",
        "        model = joblib.load(\"crop_model.pkl\")\n",
        "        input_data = [[N, P, K, temperature, humidity, ph, rainfall]]\n",
        "        prediction = model.predict(input_data)[0]\n",
        "\n",
        "        return jsonify({\"predicted_crop\": prediction})\n",
        "\n",
        "    except Exception as e:\n",
        "        return jsonify({\"error\": str(e)})\n",
        "\n",
        "if __name__ == '__main__':\n",
        "    app.run(debug=True)"
      ],
      "metadata": {
        "id": "trnqhtUn2lFP"
      },
      "execution_count": null,
      "outputs": []
    },
    {
      "cell_type": "code",
      "source": [],
      "metadata": {
        "id": "gcgeqBCM2ro4"
      },
      "execution_count": null,
      "outputs": []
    }
  ]
}